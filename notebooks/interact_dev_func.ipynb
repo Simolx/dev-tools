{
 "cells": [
  {
   "cell_type": "code",
   "execution_count": 24,
   "id": "b1c1b53e-eb35-418c-b46b-7ace59618f83",
   "metadata": {},
   "outputs": [],
   "source": [
    "#!conda install -c conda-forge ipywidgets\n",
    "#!jupyter labextension install @jupyter-widgets/jupyterlab-manager\n",
    "#! restart jupyter"
   ]
  },
  {
   "cell_type": "code",
   "execution_count": 25,
   "id": "270a754f-5bd9-404f-af83-659e281dcd91",
   "metadata": {},
   "outputs": [],
   "source": [
    "import ipywidgets as widgets\n",
    "from ipywidgets import interact, interact_manual\n",
    "from IPython.display import display"
   ]
  },
  {
   "cell_type": "code",
   "execution_count": 13,
   "id": "b117de75-f253-43b3-85a0-23beb556dff8",
   "metadata": {},
   "outputs": [],
   "source": [
    "def funcNum(x):\n",
    "    return x ** 2\n",
    "def funcBool(flag):\n",
    "    if flag:\n",
    "        print('tag as true')\n",
    "    else:\n",
    "        print('tag as false')\n",
    "def funcStr(value):\n",
    "    return value"
   ]
  },
  {
   "cell_type": "code",
   "execution_count": 6,
   "id": "bc63be67-dcab-400e-ac21-73eb24541f03",
   "metadata": {},
   "outputs": [
    {
     "data": {
      "application/vnd.jupyter.widget-view+json": {
       "model_id": "8976a18eca6446a1a4c2c214fb415663",
       "version_major": 2,
       "version_minor": 0
      },
      "text/plain": [
       "interactive(children=(IntSlider(value=10, description='x', max=30, min=-10), Output()), _dom_classes=('widget-…"
      ]
     },
     "metadata": {},
     "output_type": "display_data"
    },
    {
     "data": {
      "text/plain": [
       "<function __main__.func(x)>"
      ]
     },
     "execution_count": 6,
     "metadata": {},
     "output_type": "execute_result"
    }
   ],
   "source": [
    "interact(funcNum, x=10)"
   ]
  },
  {
   "cell_type": "code",
   "execution_count": 7,
   "id": "43b40078-9447-4eb1-a73b-baacccc56388",
   "metadata": {},
   "outputs": [
    {
     "data": {
      "application/vnd.jupyter.widget-view+json": {
       "model_id": "47e0d0f9303d4a3c86d3fe288d56da51",
       "version_major": 2,
       "version_minor": 0
      },
      "text/plain": [
       "interactive(children=(Dropdown(description='x', options=(2, 3, 4, 5), value=2), Output()), _dom_classes=('widg…"
      ]
     },
     "metadata": {},
     "output_type": "display_data"
    },
    {
     "data": {
      "text/plain": [
       "<function __main__.func(x)>"
      ]
     },
     "execution_count": 7,
     "metadata": {},
     "output_type": "execute_result"
    }
   ],
   "source": [
    "interact(funcNum, x=[2,3,4,5])"
   ]
  },
  {
   "cell_type": "code",
   "execution_count": 8,
   "id": "ed7e7a33-875c-4585-ba03-a73827b51a60",
   "metadata": {},
   "outputs": [
    {
     "data": {
      "application/vnd.jupyter.widget-view+json": {
       "model_id": "72c361c0a89447778bfe02d0fd421def",
       "version_major": 2,
       "version_minor": 0
      },
      "text/plain": [
       "interactive(children=(Dropdown(description='x', options={'one': 10, 'two': 20}, value=10), Output()), _dom_cla…"
      ]
     },
     "metadata": {},
     "output_type": "display_data"
    },
    {
     "data": {
      "text/plain": [
       "<function __main__.func(x)>"
      ]
     },
     "execution_count": 8,
     "metadata": {},
     "output_type": "execute_result"
    }
   ],
   "source": [
    "interact(funcNum, x={'one': 10, 'two': 20})"
   ]
  },
  {
   "cell_type": "code",
   "execution_count": 22,
   "id": "7f988fcc-c46c-4d17-b9ca-6e7ea25db336",
   "metadata": {},
   "outputs": [
    {
     "data": {
      "application/vnd.jupyter.widget-view+json": {
       "model_id": "0eff6b49277e4b578c1fa48d13d24e24",
       "version_major": 2,
       "version_minor": 0
      },
      "text/plain": [
       "interactive(children=(IntSlider(value=11, description='Number', max=20, min=1, step=2), Output()), _dom_classe…"
      ]
     },
     "metadata": {},
     "output_type": "display_data"
    },
    {
     "data": {
      "text/plain": [
       "<function __main__.funcNum(x)>"
      ]
     },
     "execution_count": 22,
     "metadata": {},
     "output_type": "execute_result"
    }
   ],
   "source": [
    "interact(funcNum, x=widgets.IntSlider(min=1, max=20, step=2, value=11, description='Number'))"
   ]
  },
  {
   "cell_type": "code",
   "execution_count": 12,
   "id": "af1622a2-bfdc-4da6-b74a-071f91b8f446",
   "metadata": {},
   "outputs": [
    {
     "data": {
      "application/vnd.jupyter.widget-view+json": {
       "model_id": "be7b2a8bef694e21aa3f1d16d7f6a077",
       "version_major": 2,
       "version_minor": 0
      },
      "text/plain": [
       "interactive(children=(Checkbox(value=True, description='flag'), Output()), _dom_classes=('widget-interact',))"
      ]
     },
     "metadata": {},
     "output_type": "display_data"
    },
    {
     "data": {
      "text/plain": [
       "<function __main__.funcBool(flag)>"
      ]
     },
     "execution_count": 12,
     "metadata": {},
     "output_type": "execute_result"
    }
   ],
   "source": [
    "interact(funcBool, flag=True)"
   ]
  },
  {
   "cell_type": "code",
   "execution_count": 15,
   "id": "5c1f609b-4b11-4d57-a5e5-b744b3999aaf",
   "metadata": {},
   "outputs": [
    {
     "data": {
      "application/vnd.jupyter.widget-view+json": {
       "model_id": "776ab8e50d4d4f51babf7c66d253c8d3",
       "version_major": 2,
       "version_minor": 0
      },
      "text/plain": [
       "interactive(children=(Text(value='TEST', description='value'), Output()), _dom_classes=('widget-interact',))"
      ]
     },
     "metadata": {},
     "output_type": "display_data"
    },
    {
     "data": {
      "text/plain": [
       "<function __main__.funcStr(value)>"
      ]
     },
     "execution_count": 15,
     "metadata": {},
     "output_type": "execute_result"
    }
   ],
   "source": [
    "interact(funcStr, value='TEST')"
   ]
  },
  {
   "cell_type": "code",
   "execution_count": 16,
   "id": "07ee1095-4ae5-4c69-b195-81a03a5cb7ba",
   "metadata": {},
   "outputs": [
    {
     "data": {
      "application/vnd.jupyter.widget-view+json": {
       "model_id": "dc547a43d72a434480eec71bc39dcfaf",
       "version_major": 2,
       "version_minor": 0
      },
      "text/plain": [
       "interactive(children=(Dropdown(description='value', options=('Test1', 'Test2'), value='Test1'), Output()), _do…"
      ]
     },
     "metadata": {},
     "output_type": "display_data"
    },
    {
     "data": {
      "text/plain": [
       "<function __main__.funcStr(value)>"
      ]
     },
     "execution_count": 16,
     "metadata": {},
     "output_type": "execute_result"
    }
   ],
   "source": [
    "interact(funcStr, value=['Test1', 'Test2'])"
   ]
  },
  {
   "cell_type": "code",
   "execution_count": 29,
   "id": "57e86a21-539c-4a4d-bc7e-02a3a1b7e000",
   "metadata": {},
   "outputs": [
    {
     "data": {
      "application/vnd.jupyter.widget-view+json": {
       "model_id": "e29b3a99ec3d4e16b081775def16089c",
       "version_major": 2,
       "version_minor": 0
      },
      "text/plain": [
       "Text(value='')"
      ]
     },
     "metadata": {},
     "output_type": "display_data"
    },
    {
     "name": "stderr",
     "output_type": "stream",
     "text": [
      "/var/folders/0y/7rmbhxx96g55gh2j4x3j7y100000gn/T/ipykernel_19110/306414249.py:6: DeprecationWarning: on_submit is deprecated. Instead, set the .continuous_update attribute to False and observe the value changing with: mywidget.observe(callback, 'value').\n",
      "  text.on_submit(show_value)\n"
     ]
    }
   ],
   "source": [
    "def show_value(sender):\n",
    "    print(type(sender.value))\n",
    "    print(sender.value)\n",
    "text = widgets.Text()\n",
    "display(text)\n",
    "text.on_submit(show_value)"
   ]
  },
  {
   "cell_type": "code",
   "execution_count": null,
   "id": "5c84aa0c-a977-4e82-b7c7-4a1c82ca71ca",
   "metadata": {},
   "outputs": [],
   "source": []
  }
 ],
 "metadata": {
  "kernelspec": {
   "display_name": "Python 3 (ipykernel)",
   "language": "python",
   "name": "python3"
  },
  "language_info": {
   "codemirror_mode": {
    "name": "ipython",
    "version": 3
   },
   "file_extension": ".py",
   "mimetype": "text/x-python",
   "name": "python",
   "nbconvert_exporter": "python",
   "pygments_lexer": "ipython3",
   "version": "3.9.7"
  }
 },
 "nbformat": 4,
 "nbformat_minor": 5
}
